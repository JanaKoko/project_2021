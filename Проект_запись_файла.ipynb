{
 "cells": [
  {
   "cell_type": "code",
   "execution_count": null,
   "metadata": {},
   "outputs": [],
   "source": [
    "import sqlite3"
   ]
  },
  {
   "cell_type": "code",
   "execution_count": null,
   "metadata": {},
   "outputs": [],
   "source": [
    "conn = sqlite3.connect('my_groups.db')\n",
    "cur = conn.cursor()"
   ]
  },
  {
   "cell_type": "code",
   "execution_count": null,
   "metadata": {},
   "outputs": [],
   "source": [
    "group_query = \"\"\"\n",
    "SELECT domain\n",
    "FROM posts\n",
    "\"\"\"\n",
    "\n",
    "cur.execute(group_query)\n",
    "groups = cur.fetchall()\n",
    "my_groups = list(set(groups))"
   ]
  },
  {
   "cell_type": "markdown",
   "metadata": {},
   "source": [
    "## Запишем все посты в файлы"
   ]
  },
  {
   "cell_type": "code",
   "execution_count": null,
   "metadata": {},
   "outputs": [],
   "source": [
    "for g in range(len(my_groups)):\n",
    "    text_query = \"\"\"\n",
    "    SELECT post_text\n",
    "    FROM posts\n",
    "    WHERE domain = ?\n",
    "    \"\"\"\n",
    "    cur.execute(text_query, my_groups[g])\n",
    "    texts = cur.fetchall()\n",
    "    file_name = my_groups[g][0] + '.txt'\n",
    "    with open(file_name, encoding = 'utf-8', mode = 'a') as my_file:\n",
    "        for t in texts:\n",
    "            my_file.write(t[0])\n",
    "            my_file.write('\\n')"
   ]
  }
 ],
 "metadata": {
  "kernelspec": {
   "display_name": "Python 3",
   "language": "python",
   "name": "python3"
  },
  "language_info": {
   "codemirror_mode": {
    "name": "ipython",
    "version": 3
   },
   "file_extension": ".py",
   "mimetype": "text/x-python",
   "name": "python",
   "nbconvert_exporter": "python",
   "pygments_lexer": "ipython3",
   "version": "3.8.6rc1"
  }
 },
 "nbformat": 4,
 "nbformat_minor": 4
}
